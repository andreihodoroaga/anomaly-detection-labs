{
 "cells": [
  {
   "cell_type": "code",
   "execution_count": null,
   "metadata": {},
   "outputs": [],
   "source": [
    "import torch\n",
    "import torch.nn as nn\n",
    "import torch.nn.functional as F\n",
    "from torch_geometric.nn import GCNConv\n",
    "\n",
    "class GraphAutoencoder(nn.Module):\n",
    "    def __init__(self, num_features, hidden_dim=32, latent_dim=16):\n",
    "        super(GraphAutoencoder, self).__init__()\n",
    "        \n",
    "        self.encoder_conv1 = GCNConv(num_features, hidden_dim)\n",
    "        self.encoder_conv2 = GCNConv(hidden_dim, latent_dim)\n",
    "        \n",
    "        self.attr_decoder = nn.Sequential(\n",
    "            nn.Linear(latent_dim, hidden_dim),\n",
    "            nn.ReLU(),\n",
    "            nn.Linear(hidden_dim, num_features)\n",
    "        )\n",
    "        \n",
    "        self.struct_decoder = nn.Linear(latent_dim, latent_dim)\n",
    "        \n",
    "    def encode(self, x, edge_index):\n",
    "        x = F.relu(self.encoder_conv1(x, edge_index))\n",
    "        z = self.encoder_conv2(x, edge_index)\n",
    "        return z\n",
    "    \n",
    "    def decode_attributes(self, z):\n",
    "        return self.attr_decoder(z)\n",
    "    \n",
    "    def decode_structure(self, z):\n",
    "        z_transformed = self.struct_decoder(z)\n",
    "        adj_reconstructed = torch.mm(z_transformed, z_transformed.t())\n",
    "        return adj_reconstructed\n",
    "    \n",
    "    def forward(self, x, edge_index):\n",
    "        z = self.encode(x, edge_index)\n",
    "        \n",
    "        x_reconstructed = self.decode_attributes(z)\n",
    "        adj_reconstructed = self.decode_structure(z)\n",
    "        \n",
    "        return x_reconstructed, adj_reconstructed"
   ]
  }
 ],
 "metadata": {
  "kernelspec": {
   "display_name": "base",
   "language": "python",
   "name": "python3"
  },
  "language_info": {
   "codemirror_mode": {
    "name": "ipython",
    "version": 3
   },
   "file_extension": ".py",
   "mimetype": "text/x-python",
   "name": "python",
   "nbconvert_exporter": "python",
   "pygments_lexer": "ipython3",
   "version": "3.12.3"
  }
 },
 "nbformat": 4,
 "nbformat_minor": 2
}
