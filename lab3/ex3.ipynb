{
 "cells": [
  {
   "cell_type": "code",
   "execution_count": 17,
   "metadata": {},
   "outputs": [],
   "source": [
    "from scipy.io import loadmat\n",
    "import numpy as np\n",
    "import matplotlib.pyplot as plt\n",
    "from sklearn.model_selection import train_test_split\n",
    "from sklearn.ensemble import IsolationForest\n",
    "from sklearn.metrics import balanced_accuracy_score, roc_auc_score\n",
    "from pyod.models.loda import LODA\n",
    "from pyod.models.dif import DIF\n",
    "from sklearn.preprocessing import StandardScaler\n"
   ]
  },
  {
   "cell_type": "code",
   "execution_count": 18,
   "metadata": {},
   "outputs": [],
   "source": [
    "data = loadmat('shuttle.mat')\n",
    "X = data['X']\n",
    "y = data['y']\n",
    "\n",
    "\n",
    "scaler = StandardScaler()\n",
    "\n",
    "X_normalized = scaler.fit_transform(X)\n",
    "\n",
    "X_train, X_test, y_train, y_test = train_test_split(X_normalized, y, test_size=0.4, random_state=42)"
   ]
  },
  {
   "cell_type": "code",
   "execution_count": 21,
   "metadata": {},
   "outputs": [
    {
     "name": "stderr",
     "output_type": "stream",
     "text": [
      "c:\\Python310\\lib\\site-packages\\sklearn\\metrics\\_classification.py:2184: UserWarning: y_pred contains classes not in y_true\n",
      "  warnings.warn(\"y_pred contains classes not in y_true\")\n"
     ]
    },
    {
     "name": "stdout",
     "output_type": "stream",
     "text": [
      "\n",
      "Mean Results over 1 splits:\n",
      "--------------------------------------------------\n",
      "IForest:\n",
      "Balanced Accuracy: 0.493 (±0.000)\n",
      "ROC AUC: 0.998 (±0.000)\n",
      "--------------------------------------------------\n",
      "LODA:\n",
      "Balanced Accuracy: 0.737 (±0.000)\n",
      "ROC AUC: 0.804 (±0.000)\n",
      "--------------------------------------------------\n",
      "DIF:\n",
      "Balanced Accuracy: 0.517 (±0.000)\n",
      "ROC AUC: 0.975 (±0.000)\n",
      "--------------------------------------------------\n"
     ]
    }
   ],
   "source": [
    "def evaluate_models(X, y, n_splits=1, test_size=0.4, random_state=42):\n",
    "    results = {\n",
    "        'IForest': {'BA': [], 'ROC_AUC': []},\n",
    "        'LODA': {'BA': [], 'ROC_AUC': []},\n",
    "        'DIF': {'BA': [], 'ROC_AUC': []}\n",
    "    }\n",
    "    \n",
    "    for i in range(n_splits):\n",
    "        X_train, X_test, y_train, y_test = train_test_split(\n",
    "            X_normalized, y, test_size=test_size, \n",
    "            random_state=random_state + i\n",
    "        )\n",
    "        \n",
    "        iforest = IsolationForest(random_state=random_state + i)\n",
    "        loda = LODA()\n",
    "        dif = DIF()\n",
    "        \n",
    "        for name, model in [('IForest', iforest), ('LODA', loda), ('DIF', dif)]:\n",
    "            model.fit(X_train)\n",
    "            \n",
    "            if name == 'IForest':\n",
    "                y_pred = model.predict(X_test)\n",
    "                y_pred = [-1 if x == 1 else 1 for x in y_pred]  \n",
    "                y_scores = -model.score_samples(X_test)  \n",
    "            else:\n",
    "                y_pred = model.predict(X_test)\n",
    "                y_scores = model.decision_function(X_test)\n",
    "            \n",
    "            ba = balanced_accuracy_score(y_test, y_pred)\n",
    "            auc = roc_auc_score(y_test, y_scores)\n",
    "            \n",
    "            results[name]['BA'].append(ba)\n",
    "            results[name]['ROC_AUC'].append(auc)\n",
    "\n",
    "    print(\"\\nMean Results over\", n_splits, \"splits:\")\n",
    "    print(\"-\" * 50)\n",
    "    for model in results:\n",
    "        mean_ba = np.mean(results[model]['BA'])\n",
    "        mean_auc = np.mean(results[model]['ROC_AUC'])\n",
    "        std_ba = np.std(results[model]['BA'])\n",
    "        std_auc = np.std(results[model]['ROC_AUC'])\n",
    "        print(f\"{model}:\")\n",
    "        print(f\"Balanced Accuracy: {mean_ba:.3f} (±{std_ba:.3f})\")\n",
    "        print(f\"ROC AUC: {mean_auc:.3f} (±{std_auc:.3f})\")\n",
    "        print(\"-\" * 50)\n",
    "\n",
    "\n",
    "evaluate_models(X_normalized, y)\n"
   ]
  }
 ],
 "metadata": {
  "kernelspec": {
   "display_name": "Python 3",
   "language": "python",
   "name": "python3"
  },
  "language_info": {
   "codemirror_mode": {
    "name": "ipython",
    "version": 3
   },
   "file_extension": ".py",
   "mimetype": "text/x-python",
   "name": "python",
   "nbconvert_exporter": "python",
   "pygments_lexer": "ipython3",
   "version": "3.10.7"
  }
 },
 "nbformat": 4,
 "nbformat_minor": 2
}
