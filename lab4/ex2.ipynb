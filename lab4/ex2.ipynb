{
 "cells": [
  {
   "cell_type": "code",
   "execution_count": 12,
   "metadata": {},
   "outputs": [],
   "source": [
    "import numpy as np\n",
    "import scipy.io\n",
    "from sklearn.model_selection import train_test_split\n",
    "from sklearn.preprocessing import StandardScaler\n",
    "from sklearn.svm import OneClassSVM\n",
    "from sklearn.model_selection import GridSearchCV\n",
    "from sklearn.pipeline import Pipeline\n",
    "\n",
    "seed = 42"
   ]
  },
  {
   "cell_type": "code",
   "execution_count": null,
   "metadata": {},
   "outputs": [],
   "source": [
    "data = scipy.io.loadmat('cardio.mat')\n",
    "X = data['X'] \n",
    "y = data['y'].ravel()  \n",
    "\n",
    "X_train, X_test, y_train, y_test = train_test_split(X, y, test_size=0.6, random_state=seed)\n",
    "\n",
    "param_grid = [{\n",
    "   'ocsvm__kernel': ['rbf', 'poly', 'sigmoid'],\n",
    "   'ocsvm__gamma': ['scale', 'auto', 0.1, 0.01, 0.001],\n",
    "   'ocsvm__nu': [0.1, 0.01, 0.05, 0.5]\n",
    "}, {\n",
    "   'ocsvm__kernel': ['linear'],\n",
    "   'ocsvm__nu': [0.1, 0.01, 0.05, 0.5]\n",
    "}]\n",
    "\n",
    "pipeline = Pipeline([\n",
    "    ('scaler', StandardScaler()),\n",
    "    ('ocsvm', OneClassSVM())\n",
    "])\n",
    "\n",
    "grid_search = GridSearchCV(pipeline, param_grid, cv=5, scoring='balanced_accuracy')\n",
    "\n",
    "y_train = - 2 * y_train - 1\n",
    "y_test = - 2 * y_test - 1\n",
    "\n",
    "grid_search.fit(X_train, y_train)"
   ]
  },
  {
   "cell_type": "code",
   "execution_count": 16,
   "metadata": {},
   "outputs": [
    {
     "name": "stdout",
     "output_type": "stream",
     "text": [
      "Balanced accuracy on test set: 0.864\n"
     ]
    }
   ],
   "source": [
    "best_model = grid_search.best_estimator_\n",
    "y_pred = best_model.predict(X_test)\n",
    "balanced_accuracy = (y_pred == y_test).mean()\n",
    "print(f\"Balanced accuracy on test set: {balanced_accuracy:.3f}\")"
   ]
  }
 ],
 "metadata": {
  "kernelspec": {
   "display_name": "Python 3",
   "language": "python",
   "name": "python3"
  },
  "language_info": {
   "codemirror_mode": {
    "name": "ipython",
    "version": 3
   },
   "file_extension": ".py",
   "mimetype": "text/x-python",
   "name": "python",
   "nbconvert_exporter": "python",
   "pygments_lexer": "ipython3",
   "version": "3.10.7"
  }
 },
 "nbformat": 4,
 "nbformat_minor": 2
}
