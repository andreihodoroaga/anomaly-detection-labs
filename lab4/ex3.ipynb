{
 "cells": [
  {
   "cell_type": "code",
   "execution_count": 2,
   "metadata": {},
   "outputs": [],
   "source": [
    "from scipy.io import loadmat\n",
    "import numpy as np\n",
    "import matplotlib.pyplot as plt\n",
    "from sklearn.model_selection import train_test_split\n",
    "from sklearn.metrics import balanced_accuracy_score, roc_auc_score\n",
    "from sklearn.preprocessing import StandardScaler\n",
    "from pyod.models.ocsvm import OCSVM\n",
    "from pyod.models.deep_svdd import DeepSVDD"
   ]
  },
  {
   "cell_type": "code",
   "execution_count": 3,
   "metadata": {},
   "outputs": [
    {
     "data": {
      "text/plain": [
       "(24548, 9)"
      ]
     },
     "execution_count": 3,
     "metadata": {},
     "output_type": "execute_result"
    }
   ],
   "source": [
    "data = loadmat('shuttle.mat')\n",
    "X = data['X']\n",
    "y = data['y']\n",
    "\n",
    "scaler = StandardScaler()\n",
    "\n",
    "X_normalized = scaler.fit_transform(X)\n",
    "\n",
    "X_train, X_test, y_train, y_test = train_test_split(X_normalized, y, test_size=0.5, random_state=42)"
   ]
  },
  {
   "cell_type": "code",
   "execution_count": 4,
   "metadata": {},
   "outputs": [
    {
     "name": "stdout",
     "output_type": "stream",
     "text": [
      "Balanced Accuracy OCSVM: 0.7910814847738566\n",
      "ROC AUC OCSVM: 0.7910814847738566\n"
     ]
    }
   ],
   "source": [
    "def compute_metrics(y_true, y_pred):\n",
    "    balanced_accuracy = balanced_accuracy_score(y_true, y_pred)\n",
    "    roc_auc = roc_auc_score(y_true, y_pred)\n",
    "    return balanced_accuracy, roc_auc\n",
    "\n",
    "\n",
    "ocsvm = OCSVM(contamination=0.2, kernel='linear')\n",
    "ocsvm.fit(X_train)\n",
    "y_pred_ocsvm = ocsvm.predict(X_test)\n",
    "balanced_accuracy_ocsvm, roc_auc_ocsvm = compute_metrics(y_test, y_pred_ocsvm)\n",
    "print(f\"Balanced Accuracy OCSVM: {balanced_accuracy_ocsvm}\")\n",
    "print(f\"ROC AUC OCSVM: {roc_auc_ocsvm}\")\n"
   ]
  },
  {
   "cell_type": "code",
   "execution_count": 8,
   "metadata": {},
   "outputs": [
    {
     "name": "stdout",
     "output_type": "stream",
     "text": [
      "Epoch 1/20, Loss: 789.9926100671291\n",
      "Epoch 2/20, Loss: 790.3251096308231\n",
      "Epoch 3/20, Loss: 790.2421650588512\n",
      "Epoch 4/20, Loss: 790.9705103337765\n",
      "Epoch 5/20, Loss: 790.6206660568714\n",
      "Epoch 6/20, Loss: 789.9160867333412\n",
      "Epoch 7/20, Loss: 790.3183958530426\n",
      "Epoch 8/20, Loss: 790.8322910070419\n",
      "Epoch 9/20, Loss: 790.8018596917391\n",
      "Epoch 10/20, Loss: 789.8522890508175\n",
      "Epoch 11/20, Loss: 789.9700867533684\n",
      "Epoch 12/20, Loss: 790.1008358001709\n",
      "Epoch 13/20, Loss: 790.9587433934212\n",
      "Epoch 14/20, Loss: 790.1180868297815\n",
      "Epoch 15/20, Loss: 789.9981416910887\n",
      "Epoch 16/20, Loss: 790.0031196773052\n",
      "Epoch 17/20, Loss: 789.886050760746\n",
      "Epoch 18/20, Loss: 790.46666431427\n",
      "Epoch 19/20, Loss: 790.1509558558464\n",
      "Epoch 20/20, Loss: 789.8986075222492\n",
      "Balanced Accuracy DeepSVDD: 0.9592286620072838\n",
      "ROC AUC DeepSVDD: 0.9592286620072838\n"
     ]
    }
   ],
   "source": [
    "deep_svdd = DeepSVDD(n_features=X_train.shape[1],epochs=20)\n",
    "deep_svdd.fit(X_train)\n",
    "y_pred_deep_svdd = deep_svdd.predict(X_test)\n",
    "balanced_accuracy_deep_svdd, roc_auc_deep_svdd = compute_metrics(y_test, y_pred_deep_svdd)\n",
    "print(f\"Balanced Accuracy DeepSVDD: {balanced_accuracy_deep_svdd}\")\n",
    "print(f\"ROC AUC DeepSVDD: {roc_auc_deep_svdd}\")"
   ]
  },
  {
   "cell_type": "code",
   "execution_count": 10,
   "metadata": {},
   "outputs": [
    {
     "name": "stdout",
     "output_type": "stream",
     "text": [
      "Epoch 1/20, Loss: 135.5315656196326\n",
      "Epoch 2/20, Loss: 137.63643717765808\n",
      "Epoch 3/20, Loss: 134.19304679334164\n",
      "Epoch 4/20, Loss: 132.36037436127663\n",
      "Epoch 5/20, Loss: 133.92507243528962\n",
      "Epoch 6/20, Loss: 135.21597923710942\n",
      "Epoch 7/20, Loss: 131.19358712807298\n",
      "Epoch 8/20, Loss: 133.06961143761873\n",
      "Epoch 9/20, Loss: 129.20350275933743\n",
      "Epoch 10/20, Loss: 132.70388467423618\n",
      "Epoch 11/20, Loss: 134.59095166251063\n",
      "Epoch 12/20, Loss: 133.16345570236444\n",
      "Epoch 13/20, Loss: 130.9871289441362\n",
      "Epoch 14/20, Loss: 131.8394225165248\n",
      "Epoch 15/20, Loss: 128.79601086303592\n",
      "Epoch 16/20, Loss: 134.87881073728204\n",
      "Epoch 17/20, Loss: 137.77427781745791\n",
      "Epoch 18/20, Loss: 130.7568514086306\n",
      "Epoch 19/20, Loss: 134.27737806364894\n",
      "Epoch 20/20, Loss: 132.13511740416288\n",
      "Balanced Accuracy DeepSVDD: 0.964625049700587\n",
      "ROC AUC DeepSVDD: 0.9646250497005872\n"
     ]
    }
   ],
   "source": [
    "deep_svdd = DeepSVDD(n_features=X_train.shape[1], hidden_neurons=[128, 64, 32], epochs=20)\n",
    "deep_svdd.fit(X_train)\n",
    "y_pred_deep_svdd = deep_svdd.predict(X_test)\n",
    "balanced_accuracy_deep_svdd, roc_auc_deep_svdd = compute_metrics(y_test, y_pred_deep_svdd)\n",
    "print(f\"Balanced Accuracy DeepSVDD: {balanced_accuracy_deep_svdd}\")\n",
    "print(f\"ROC AUC DeepSVDD: {roc_auc_deep_svdd}\")"
   ]
  },
  {
   "cell_type": "code",
   "execution_count": 19,
   "metadata": {},
   "outputs": [
    {
     "name": "stdout",
     "output_type": "stream",
     "text": [
      "Epoch 1/20, Loss: 2689.623865365982\n",
      "Epoch 2/20, Loss: 2689.512279510498\n",
      "Epoch 3/20, Loss: 2689.6654534339905\n",
      "Epoch 4/20, Loss: 2689.4897372722626\n",
      "Epoch 5/20, Loss: 2690.0852613449097\n",
      "Epoch 6/20, Loss: 2689.4492630958557\n",
      "Epoch 7/20, Loss: 2689.6983501911163\n",
      "Epoch 8/20, Loss: 2689.617038488388\n",
      "Epoch 9/20, Loss: 2690.6288006305695\n",
      "Epoch 10/20, Loss: 2690.8081583976746\n",
      "Epoch 11/20, Loss: 2689.560658454895\n",
      "Epoch 12/20, Loss: 2691.4027478694916\n",
      "Epoch 13/20, Loss: 2690.1380219459534\n",
      "Epoch 14/20, Loss: 2689.4881253242493\n",
      "Epoch 15/20, Loss: 2689.3751661777496\n",
      "Epoch 16/20, Loss: 2689.5856108665466\n",
      "Epoch 17/20, Loss: 2689.724631547928\n",
      "Epoch 18/20, Loss: 2689.6923553943634\n",
      "Epoch 19/20, Loss: 2689.385124206543\n",
      "Epoch 20/20, Loss: 2689.5393340587616\n",
      "Balanced Accuracy DeepSVDD: 0.55100191092143\n",
      "ROC AUC DeepSVDD: 0.55100191092143\n"
     ]
    }
   ],
   "source": [
    "deep_svdd = DeepSVDD(n_features=X_train.shape[1], use_ae=True, hidden_neurons=[9, 7, 5], epochs=20)\n",
    "deep_svdd.fit(X_train)\n",
    "y_pred_deep_svdd = deep_svdd.predict(X_test)\n",
    "balanced_accuracy_deep_svdd, roc_auc_deep_svdd = compute_metrics(y_test, y_pred_deep_svdd)\n",
    "print(f\"Balanced Accuracy DeepSVDD: {balanced_accuracy_deep_svdd}\")\n",
    "print(f\"ROC AUC DeepSVDD: {roc_auc_deep_svdd}\")"
   ]
  },
  {
   "cell_type": "code",
   "execution_count": 20,
   "metadata": {},
   "outputs": [
    {
     "name": "stdout",
     "output_type": "stream",
     "text": [
      "Epoch 1/20, Loss: 2687.48890376091\n",
      "Epoch 2/20, Loss: 2687.452973127365\n",
      "Epoch 3/20, Loss: 2687.4298434257507\n",
      "Epoch 4/20, Loss: 2687.5479593276978\n",
      "Epoch 5/20, Loss: 2688.582632303238\n",
      "Epoch 6/20, Loss: 2687.435346841812\n",
      "Epoch 7/20, Loss: 2688.7755455970764\n",
      "Epoch 8/20, Loss: 2687.4436128139496\n",
      "Epoch 9/20, Loss: 2687.4833834171295\n",
      "Epoch 10/20, Loss: 2687.596157312393\n",
      "Epoch 11/20, Loss: 2687.556127309799\n",
      "Epoch 12/20, Loss: 2687.4294781684875\n",
      "Epoch 13/20, Loss: 2687.5170629024506\n",
      "Epoch 14/20, Loss: 2687.5190711021423\n",
      "Epoch 15/20, Loss: 2688.159094810486\n",
      "Epoch 16/20, Loss: 2687.3947331905365\n",
      "Epoch 17/20, Loss: 2687.444349527359\n",
      "Epoch 18/20, Loss: 2688.022238969803\n",
      "Epoch 19/20, Loss: 2687.3017842769623\n",
      "Epoch 20/20, Loss: 2687.467689037323\n",
      "Balanced Accuracy DeepSVDD: 0.4566770376484781\n",
      "ROC AUC DeepSVDD: 0.4566770376484781\n"
     ]
    }
   ],
   "source": [
    "deep_svdd = DeepSVDD(n_features=X_train.shape[1], use_ae=True, hidden_neurons=[9, 7, 5, 3], epochs=20)\n",
    "deep_svdd.fit(X_train)\n",
    "y_pred_deep_svdd = deep_svdd.predict(X_test)\n",
    "balanced_accuracy_deep_svdd, roc_auc_deep_svdd = compute_metrics(y_test, y_pred_deep_svdd)\n",
    "print(f\"Balanced Accuracy DeepSVDD: {balanced_accuracy_deep_svdd}\")\n",
    "print(f\"ROC AUC DeepSVDD: {roc_auc_deep_svdd}\")"
   ]
  }
 ],
 "metadata": {
  "kernelspec": {
   "display_name": "Python 3",
   "language": "python",
   "name": "python3"
  },
  "language_info": {
   "codemirror_mode": {
    "name": "ipython",
    "version": 3
   },
   "file_extension": ".py",
   "mimetype": "text/x-python",
   "name": "python",
   "nbconvert_exporter": "python",
   "pygments_lexer": "ipython3",
   "version": "3.10.7"
  }
 },
 "nbformat": 4,
 "nbformat_minor": 2
}
